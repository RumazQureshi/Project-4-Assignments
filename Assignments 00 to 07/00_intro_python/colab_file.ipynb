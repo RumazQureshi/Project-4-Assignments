{
  "nbformat": 4,
  "nbformat_minor": 0,
  "metadata": {
    "colab": {
      "provenance": [],
      "authorship_tag": "ABX9TyOuTwjE4PGTHYtdG+SMiDz9",
      "include_colab_link": true
    },
    "kernelspec": {
      "name": "python3",
      "display_name": "Python 3"
    },
    "language_info": {
      "name": "python"
    }
  },
  "cells": [
    {
      "cell_type": "markdown",
      "metadata": {
        "id": "view-in-github",
        "colab_type": "text"
      },
      "source": [
        "<a href=\"https://colab.research.google.com/github/RumazQureshi/Project-4-Assignments/blob/main/Assignments%2000%20to%2007/00_intro_python/colab_file.ipynb\" target=\"_parent\"><img src=\"https://colab.research.google.com/assets/colab-badge.svg\" alt=\"Open In Colab\"/></a>"
      ]
    },
    {
      "cell_type": "markdown",
      "source": [
        "# **01_add_two_numbers**"
      ],
      "metadata": {
        "id": "iDU99lRNkcs9"
      }
    },
    {
      "cell_type": "code",
      "source": [
        "def main():\n",
        "  num1 = input(\"Enter the First number: \")\n",
        "  num1 = int(num1)\n",
        "  num2 = input(\"Enter the second number: \")\n",
        "  num2 = int(num2)\n",
        "  sum = num1 + num2\n",
        "  print(f\"the sum of {num1} and {num2} is equal to: {sum}\")\n",
        "if __name__ == '__main__':\n",
        "  main()"
      ],
      "metadata": {
        "colab": {
          "base_uri": "https://localhost:8080/"
        },
        "id": "i0XRF53aksJn",
        "outputId": "e7270d07-4197-4180-dfa5-1c8720302387"
      },
      "execution_count": null,
      "outputs": [
        {
          "output_type": "stream",
          "name": "stdout",
          "text": [
            "Enter the First number: 4\n",
            "Enter the second number: 2\n",
            "the sum of 4 and 2 is equal to: 6\n"
          ]
        }
      ]
    },
    {
      "cell_type": "markdown",
      "source": [
        "# **02_agreement_bot**"
      ],
      "metadata": {
        "id": "s54owQYvpljy"
      }
    },
    {
      "cell_type": "code",
      "source": [
        "def main():\n",
        "  fvt_animal = input(\"What is your favourite Animal? \")\n",
        "  print(f\"My favourite Animal is also {fvt_animal}!\")\n",
        "if __name__ == '__main__':\n",
        "  main()"
      ],
      "metadata": {
        "colab": {
          "base_uri": "https://localhost:8080/"
        },
        "id": "kly8Rezwp1ov",
        "outputId": "e5ca58ed-2275-4075-8e2d-f712cbf30b0f"
      },
      "execution_count": null,
      "outputs": [
        {
          "output_type": "stream",
          "name": "stdout",
          "text": [
            "What is your favourite Animal? cow\n",
            "My favourite Animal is also cow!\n"
          ]
        }
      ]
    },
    {
      "cell_type": "markdown",
      "source": [
        "# **03_fahrenheit_to_celsius**"
      ],
      "metadata": {
        "id": "Yvl4X4jPtkfC"
      }
    },
    {
      "cell_type": "code",
      "source": [
        "def main():\n",
        "  degree_fahrenheit : float = float(input(\"Enter Temperature in Fahrenheit: \"))\n",
        "  degrees_celsius: float = (degree_fahrenheit - 32) * 5.0/9.0\n",
        "  print(f\"Temperature: {degree_fahrenheit}F = {degrees_celsius}C\")\n",
        "if __name__ == '__main__':\n",
        "  main()"
      ],
      "metadata": {
        "id": "QwuDKt54tqrp",
        "outputId": "93c195cb-02d2-4210-b47d-a15e3cd5ad7e",
        "colab": {
          "base_uri": "https://localhost:8080/"
        }
      },
      "execution_count": 41,
      "outputs": [
        {
          "output_type": "stream",
          "name": "stdout",
          "text": [
            "Enter Temperature in Fahrenheit: 76\n",
            "Temperature: 76.0F = 24.444444444444443C\n"
          ]
        }
      ]
    },
    {
      "cell_type": "markdown",
      "source": [
        "# **04_how_old_are_they**"
      ],
      "metadata": {
        "id": "LTBZZqw9A6z7"
      }
    },
    {
      "cell_type": "code",
      "source": [
        "def main():\n",
        "  anton = 21\n",
        "  beth = anton + 6\n",
        "  chen = beth + 20\n",
        "  drew = chen + anton\n",
        "  ethan = chen\n",
        "\n",
        "  print(f\"Anton is {anton}\")\n",
        "  print(f\"Beth is {beth}\")\n",
        "  print(f\"Chen is {chen}\")\n",
        "  print(f\"Drew is {drew}\")\n",
        "  print(f\"Ethan is {ethan}\")\n",
        "if __name__ == '__main__':\n",
        "  main()"
      ],
      "metadata": {
        "id": "VLGztYAJBA8d",
        "outputId": "e8987449-915e-487d-b37f-fd54b55f8e6a",
        "colab": {
          "base_uri": "https://localhost:8080/"
        }
      },
      "execution_count": 44,
      "outputs": [
        {
          "output_type": "stream",
          "name": "stdout",
          "text": [
            "Anton is 21\n",
            "Beth is 27\n",
            "Chen is 47\n",
            "Drew is 68\n",
            "Ethan is 47\n"
          ]
        }
      ]
    },
    {
      "cell_type": "markdown",
      "source": [
        "# **05_triangle_perimeter**"
      ],
      "metadata": {
        "id": "dy8sA0w1EnHg"
      }
    },
    {
      "cell_type": "code",
      "source": [
        "def main():\n",
        "  side1: float  = float(input(\"Enter the length of side1? \"))\n",
        "  side2: float  = float(input(\"Enter the length of side2? \"))\n",
        "  side3: float  = float(input(\"Enter the length of side3? \"))\n",
        "\n",
        "  print(\"The perimeter of Triangle is:\" + str(side1 + side2 + side3))\n",
        "if __name__ == '__main__':\n",
        "  main()"
      ],
      "metadata": {
        "id": "RTGaGkusEsJl",
        "outputId": "b5871bd1-035f-4518-bf82-0c2b6e468dfe",
        "colab": {
          "base_uri": "https://localhost:8080/"
        }
      },
      "execution_count": 58,
      "outputs": [
        {
          "output_type": "stream",
          "name": "stdout",
          "text": [
            "Enter the length of side1? 4\n",
            "Enter the length of side2? 3\n",
            "Enter the length of side3? 5.5\n",
            "The perimeter of Triangle is:12.5\n"
          ]
        }
      ]
    },
    {
      "cell_type": "markdown",
      "source": [
        "# **06_square_number**"
      ],
      "metadata": {
        "id": "_LeVdfJ2HY-G"
      }
    },
    {
      "cell_type": "code",
      "source": [
        "def main():\n",
        "  number:float=float(input(\"Enter number to see its square: \"))\n",
        "  print(\"The square of \" + str(number)+ \" is \" + str(number**2))\n",
        "if __name__ == '__main__':\n",
        "  main()"
      ],
      "metadata": {
        "id": "Cpa41pUPHdVz",
        "outputId": "af18049c-195f-410a-f0b5-4a02d6defd3b",
        "colab": {
          "base_uri": "https://localhost:8080/"
        }
      },
      "execution_count": 57,
      "outputs": [
        {
          "output_type": "stream",
          "name": "stdout",
          "text": [
            "Enter number to see its square: 4\n",
            "The square of 4.0 is 16.0\n"
          ]
        }
      ]
    }
  ]
}