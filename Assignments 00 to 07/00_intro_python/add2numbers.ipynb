{
  "nbformat": 4,
  "nbformat_minor": 0,
  "metadata": {
    "colab": {
      "provenance": [],
      "authorship_tag": "ABX9TyO/t8sPWV/ZFjwbve/zknKN",
      "include_colab_link": true
    },
    "kernelspec": {
      "name": "python3",
      "display_name": "Python 3"
    },
    "language_info": {
      "name": "python"
    }
  },
  "cells": [
    {
      "cell_type": "markdown",
      "metadata": {
        "id": "view-in-github",
        "colab_type": "text"
      },
      "source": [
        "<a href=\"https://colab.research.google.com/github/RumazQureshi/Project-4-Assignments/blob/main/Assignments%2000%20to%2007/00_intro_python/add2numbers.ipynb\" target=\"_parent\"><img src=\"https://colab.research.google.com/assets/colab-badge.svg\" alt=\"Open In Colab\"/></a>"
      ]
    },
    {
      "cell_type": "markdown",
      "source": [
        "# **01_add_two_numbers**"
      ],
      "metadata": {
        "id": "iDU99lRNkcs9"
      }
    },
    {
      "cell_type": "code",
      "source": [
        "def main():\n",
        "  num1 = input(\"Enter the First number: \")\n",
        "  num1 = int(num1)\n",
        "  num2 = input(\"Enter the second number: \")\n",
        "  num2 = int(num2)\n",
        "  sum = num1 + num2\n",
        "  print(f\"the sum of {num1} and {num2} is equal to: {sum}\")\n",
        "if __name__ == 'main':\n",
        "  main()"
      ],
      "metadata": {
        "id": "i0XRF53aksJn"
      },
      "execution_count": 13,
      "outputs": []
    }
  ]
}